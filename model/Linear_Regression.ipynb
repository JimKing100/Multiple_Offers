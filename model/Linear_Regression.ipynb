{
  "nbformat": 4,
  "nbformat_minor": 0,
  "metadata": {
    "colab": {
      "name": "Untitled43.ipynb",
      "provenance": [],
      "include_colab_link": true
    },
    "kernelspec": {
      "name": "python3",
      "display_name": "Python 3"
    }
  },
  "cells": [
    {
      "cell_type": "markdown",
      "metadata": {
        "id": "view-in-github",
        "colab_type": "text"
      },
      "source": [
        "<a href=\"https://colab.research.google.com/github/JimKing100/Multiple_Offers/blob/master/model/Linear_Regression.ipynb\" target=\"_parent\"><img src=\"https://colab.research.google.com/assets/colab-badge.svg\" alt=\"Open In Colab\"/></a>"
      ]
    },
    {
      "cell_type": "code",
      "metadata": {
        "id": "ryEcCA98YCPp",
        "colab_type": "code",
        "colab": {}
      },
      "source": [
        "# Installs\n",
        "%%capture\n",
        "!pip install category_encoders==2.0.0"
      ],
      "execution_count": 0,
      "outputs": []
    },
    {
      "cell_type": "code",
      "metadata": {
        "id": "siUawOJBT7Ob",
        "colab_type": "code",
        "colab": {}
      },
      "source": [
        "# Import libraries\n",
        "import pandas as pd\n",
        "import numpy as np\n",
        "\n",
        "from sklearn.preprocessing import OrdinalEncoder\n",
        "from sklearn.linear_model import LinearRegression\n",
        "from sklearn.pipeline import make_pipeline\n",
        "import category_encoders as ce\n",
        "from sklearn.metrics import mean_absolute_error, mean_squared_error, r2_score\n",
        "from sklearn.impute import SimpleImputer\n",
        "\n",
        "\n",
        "import category_encoders as ce\n",
        "from joblib import dump"
      ],
      "execution_count": 0,
      "outputs": []
    },
    {
      "cell_type": "code",
      "metadata": {
        "id": "OoBiowHvUOmi",
        "colab_type": "code",
        "colab": {}
      },
      "source": [
        "df = pd.read_csv('https://raw.githubusercontent.com/JimKing100/Multiple_Offers/master/Marin-MulitOffers-2015-2019-Final.csv')"
      ],
      "execution_count": 0,
      "outputs": []
    },
    {
      "cell_type": "code",
      "metadata": {
        "id": "3g4JUtPpUo3I",
        "colab_type": "code",
        "outputId": "8cb98ad7-d12c-49fc-a567-6f6e7429db24",
        "colab": {
          "base_uri": "https://localhost:8080/",
          "height": 221
        }
      },
      "source": [
        "df.head()"
      ],
      "execution_count": 4,
      "outputs": [
        {
          "output_type": "execute_result",
          "data": {
            "text/html": [
              "<div>\n",
              "<style scoped>\n",
              "    .dataframe tbody tr th:only-of-type {\n",
              "        vertical-align: middle;\n",
              "    }\n",
              "\n",
              "    .dataframe tbody tr th {\n",
              "        vertical-align: top;\n",
              "    }\n",
              "\n",
              "    .dataframe thead th {\n",
              "        text-align: right;\n",
              "    }\n",
              "</style>\n",
              "<table border=\"1\" class=\"dataframe\">\n",
              "  <thead>\n",
              "    <tr style=\"text-align: right;\">\n",
              "      <th></th>\n",
              "      <th>Year</th>\n",
              "      <th>Area</th>\n",
              "      <th>Total Bathrooms</th>\n",
              "      <th>Bedrooms</th>\n",
              "      <th>Curr List Price</th>\n",
              "      <th>Number of Offers</th>\n",
              "      <th>Selling Price</th>\n",
              "    </tr>\n",
              "  </thead>\n",
              "  <tbody>\n",
              "    <tr>\n",
              "      <th>0</th>\n",
              "      <td>2015</td>\n",
              "      <td>10</td>\n",
              "      <td>2</td>\n",
              "      <td>2</td>\n",
              "      <td>3200000</td>\n",
              "      <td>2</td>\n",
              "      <td>3400000</td>\n",
              "    </tr>\n",
              "    <tr>\n",
              "      <th>1</th>\n",
              "      <td>2015</td>\n",
              "      <td>10</td>\n",
              "      <td>3</td>\n",
              "      <td>3</td>\n",
              "      <td>3795000</td>\n",
              "      <td>2</td>\n",
              "      <td>3783000</td>\n",
              "    </tr>\n",
              "    <tr>\n",
              "      <th>2</th>\n",
              "      <td>2015</td>\n",
              "      <td>10</td>\n",
              "      <td>4</td>\n",
              "      <td>3</td>\n",
              "      <td>2675000</td>\n",
              "      <td>2</td>\n",
              "      <td>2675000</td>\n",
              "    </tr>\n",
              "    <tr>\n",
              "      <th>3</th>\n",
              "      <td>2015</td>\n",
              "      <td>10</td>\n",
              "      <td>3</td>\n",
              "      <td>4</td>\n",
              "      <td>2895000</td>\n",
              "      <td>2</td>\n",
              "      <td>3200000</td>\n",
              "    </tr>\n",
              "    <tr>\n",
              "      <th>4</th>\n",
              "      <td>2015</td>\n",
              "      <td>10</td>\n",
              "      <td>4</td>\n",
              "      <td>4</td>\n",
              "      <td>2795000</td>\n",
              "      <td>2</td>\n",
              "      <td>3100000</td>\n",
              "    </tr>\n",
              "  </tbody>\n",
              "</table>\n",
              "</div>"
            ],
            "text/plain": [
              "   Year  Area  ...  Number of Offers  Selling Price\n",
              "0  2015    10  ...                 2        3400000\n",
              "1  2015    10  ...                 2        3783000\n",
              "2  2015    10  ...                 2        2675000\n",
              "3  2015    10  ...                 2        3200000\n",
              "4  2015    10  ...                 2        3100000\n",
              "\n",
              "[5 rows x 7 columns]"
            ]
          },
          "metadata": {
            "tags": []
          },
          "execution_count": 4
        }
      ]
    },
    {
      "cell_type": "code",
      "metadata": {
        "id": "FjXAdEL-VaFp",
        "colab_type": "code",
        "outputId": "e066e443-46c8-4a0c-a455-615b95b83d06",
        "colab": {
          "base_uri": "https://localhost:8080/",
          "height": 51
        }
      },
      "source": [
        "low_cutoff = 2015\n",
        "high_cutoff = 2019\n",
        "train = df[(df['Year'] >= low_cutoff) & (df['Year'] < high_cutoff)]\n",
        "test  = df[df['Year'] >= high_cutoff]\n",
        "print(train.shape)\n",
        "print(test.shape)"
      ],
      "execution_count": 5,
      "outputs": [
        {
          "output_type": "stream",
          "text": [
            "(3964, 7)\n",
            "(776, 7)\n"
          ],
          "name": "stdout"
        }
      ]
    },
    {
      "cell_type": "code",
      "metadata": {
        "id": "M2NPoMIxW7no",
        "colab_type": "code",
        "outputId": "87aab0df-828d-4976-f5f9-3c6fc06b81e4",
        "colab": {
          "base_uri": "https://localhost:8080/",
          "height": 34
        }
      },
      "source": [
        "# Split train into train and validation\n",
        "cutoff = 2018\n",
        "temp=train.copy()\n",
        "train = temp[temp['Year'] < cutoff]\n",
        "val  = temp[temp['Year'] >= cutoff]\n",
        "print(train.shape, val.shape, test.shape)"
      ],
      "execution_count": 6,
      "outputs": [
        {
          "output_type": "stream",
          "text": [
            "(2973, 7) (991, 7) (776, 7)\n"
          ],
          "name": "stdout"
        }
      ]
    },
    {
      "cell_type": "code",
      "metadata": {
        "id": "mcF03aWQXWMr",
        "colab_type": "code",
        "outputId": "ca9724a8-5db4-45bc-c381-880893274eab",
        "colab": {
          "base_uri": "https://localhost:8080/",
          "height": 119
        }
      },
      "source": [
        "# Encode and fit a linear regression model\n",
        "target = 'Selling Price'\n",
        "\n",
        "features = train.columns.drop(target)\n",
        "X_train = train[features]\n",
        "y_train = train[target]\n",
        "X_val = val[features]\n",
        "y_val = val[target]\n",
        "X_test = test[features]\n",
        "y_test = test[target]\n",
        "\n",
        "pipeline = make_pipeline(\n",
        "  ce.OrdinalEncoder(),\n",
        "  SimpleImputer(strategy='mean'),\n",
        "  LinearRegression()\n",
        ")\n",
        "\n",
        "pipeline.fit(X_train, y_train)\n",
        "dump(pipeline, 'pipeline.joblib')\n",
        "y_pred = pipeline.predict(X_val)\n",
        "\n",
        "# Print regression metrics for validation \n",
        "val_mse = mean_squared_error(y_val, y_pred)\n",
        "val_rmse = np.sqrt(val_mse)\n",
        "val_mae = mean_absolute_error(y_val, y_pred)\n",
        "val_r2 = r2_score(y_val, y_pred)\n",
        "print('Validation Mean Absolute Error:', val_mae)\n",
        "print('Validation R^2:', val_r2)\n",
        "print('\\n')\n",
        "\n",
        "ty_pred = pipeline.predict(X_test)\n",
        "\n",
        "# Print regression metrics for test\n",
        "test_mse = mean_squared_error(y_test, ty_pred)\n",
        "test_rmse = np.sqrt(test_mse)\n",
        "test_mae = mean_absolute_error(y_test, ty_pred)\n",
        "test_r2 = r2_score(y_test, ty_pred)\n",
        "print('Test Mean Absolute Error:', test_mae)\n",
        "print('Test R^2:', test_r2)\n"
      ],
      "execution_count": 7,
      "outputs": [
        {
          "output_type": "stream",
          "text": [
            "Validation Mean Absolute Error: 77218.20784225203\n",
            "Validation R^2: 0.9713470690537497\n",
            "\n",
            "\n",
            "Test Mean Absolute Error: 75335.6009346274\n",
            "Test R^2: 0.9817421852419586\n"
          ],
          "name": "stdout"
        }
      ]
    }
  ]
}