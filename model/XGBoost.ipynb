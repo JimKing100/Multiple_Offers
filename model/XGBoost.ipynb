{
  "nbformat": 4,
  "nbformat_minor": 0,
  "metadata": {
    "colab": {
      "name": "Untitled43.ipynb",
      "provenance": [],
      "include_colab_link": true
    },
    "kernelspec": {
      "name": "python3",
      "display_name": "Python 3"
    }
  },
  "cells": [
    {
      "cell_type": "markdown",
      "metadata": {
        "id": "view-in-github",
        "colab_type": "text"
      },
      "source": [
        "<a href=\"https://colab.research.google.com/github/JimKing100/Multiple_Offers/blob/master/model/XGBoost.ipynb\" target=\"_parent\"><img src=\"https://colab.research.google.com/assets/colab-badge.svg\" alt=\"Open In Colab\"/></a>"
      ]
    },
    {
      "cell_type": "code",
      "metadata": {
        "id": "ryEcCA98YCPp",
        "colab_type": "code",
        "colab": {}
      },
      "source": [
        "# Installs\n",
        "%%capture\n",
        "!pip install category_encoders==2.0.0"
      ],
      "execution_count": 0,
      "outputs": []
    },
    {
      "cell_type": "code",
      "metadata": {
        "id": "siUawOJBT7Ob",
        "colab_type": "code",
        "colab": {}
      },
      "source": [
        "# Import libraries\n",
        "import pandas as pd\n",
        "import numpy as np\n",
        "\n",
        "from sklearn.preprocessing import OrdinalEncoder\n",
        "from sklearn.linear_model import LinearRegression\n",
        "from sklearn.pipeline import make_pipeline\n",
        "import category_encoders as ce\n",
        "from sklearn.metrics import mean_absolute_error, mean_squared_error, r2_score\n",
        "from sklearn.impute import SimpleImputer\n",
        "from xgboost import XGBRegressor\n",
        "\n",
        "\n",
        "import category_encoders as ce\n",
        "from joblib import dump"
      ],
      "execution_count": 0,
      "outputs": []
    },
    {
      "cell_type": "code",
      "metadata": {
        "id": "OoBiowHvUOmi",
        "colab_type": "code",
        "colab": {}
      },
      "source": [
        "# Load the raw data\n",
        "df = pd.read_csv('https://raw.githubusercontent.com/JimKing100/Multiple_Offers/master/data/Marin-MulitOffers-2015-2019-Final.csv')"
      ],
      "execution_count": 0,
      "outputs": []
    },
    {
      "cell_type": "code",
      "metadata": {
        "id": "3g4JUtPpUo3I",
        "colab_type": "code",
        "outputId": "ee9b4e22-af57-43d2-a9be-63340b9444ce",
        "colab": {
          "base_uri": "https://localhost:8080/",
          "height": 204
        }
      },
      "source": [
        "df.head()"
      ],
      "execution_count": 4,
      "outputs": [
        {
          "output_type": "execute_result",
          "data": {
            "text/html": [
              "<div>\n",
              "<style scoped>\n",
              "    .dataframe tbody tr th:only-of-type {\n",
              "        vertical-align: middle;\n",
              "    }\n",
              "\n",
              "    .dataframe tbody tr th {\n",
              "        vertical-align: top;\n",
              "    }\n",
              "\n",
              "    .dataframe thead th {\n",
              "        text-align: right;\n",
              "    }\n",
              "</style>\n",
              "<table border=\"1\" class=\"dataframe\">\n",
              "  <thead>\n",
              "    <tr style=\"text-align: right;\">\n",
              "      <th></th>\n",
              "      <th>Year</th>\n",
              "      <th>Area</th>\n",
              "      <th>Total Bathrooms</th>\n",
              "      <th>Bedrooms</th>\n",
              "      <th>Curr List Price</th>\n",
              "      <th>Number of Offers</th>\n",
              "      <th>Selling Price</th>\n",
              "    </tr>\n",
              "  </thead>\n",
              "  <tbody>\n",
              "    <tr>\n",
              "      <th>0</th>\n",
              "      <td>2015</td>\n",
              "      <td>10</td>\n",
              "      <td>2</td>\n",
              "      <td>2</td>\n",
              "      <td>3200000</td>\n",
              "      <td>2</td>\n",
              "      <td>3400000</td>\n",
              "    </tr>\n",
              "    <tr>\n",
              "      <th>1</th>\n",
              "      <td>2015</td>\n",
              "      <td>10</td>\n",
              "      <td>3</td>\n",
              "      <td>3</td>\n",
              "      <td>3795000</td>\n",
              "      <td>2</td>\n",
              "      <td>3783000</td>\n",
              "    </tr>\n",
              "    <tr>\n",
              "      <th>2</th>\n",
              "      <td>2015</td>\n",
              "      <td>10</td>\n",
              "      <td>4</td>\n",
              "      <td>3</td>\n",
              "      <td>2675000</td>\n",
              "      <td>2</td>\n",
              "      <td>2675000</td>\n",
              "    </tr>\n",
              "    <tr>\n",
              "      <th>3</th>\n",
              "      <td>2015</td>\n",
              "      <td>10</td>\n",
              "      <td>3</td>\n",
              "      <td>4</td>\n",
              "      <td>2895000</td>\n",
              "      <td>2</td>\n",
              "      <td>3200000</td>\n",
              "    </tr>\n",
              "    <tr>\n",
              "      <th>4</th>\n",
              "      <td>2015</td>\n",
              "      <td>10</td>\n",
              "      <td>4</td>\n",
              "      <td>4</td>\n",
              "      <td>2795000</td>\n",
              "      <td>2</td>\n",
              "      <td>3100000</td>\n",
              "    </tr>\n",
              "  </tbody>\n",
              "</table>\n",
              "</div>"
            ],
            "text/plain": [
              "   Year  Area  ...  Number of Offers  Selling Price\n",
              "0  2015    10  ...                 2        3400000\n",
              "1  2015    10  ...                 2        3783000\n",
              "2  2015    10  ...                 2        2675000\n",
              "3  2015    10  ...                 2        3200000\n",
              "4  2015    10  ...                 2        3100000\n",
              "\n",
              "[5 rows x 7 columns]"
            ]
          },
          "metadata": {
            "tags": []
          },
          "execution_count": 4
        }
      ]
    },
    {
      "cell_type": "code",
      "metadata": {
        "id": "Uucweu9v-RZe",
        "colab_type": "code",
        "outputId": "918d68b0-99be-49ae-c293-4faf64d97474",
        "colab": {
          "base_uri": "https://localhost:8080/",
          "height": 204
        }
      },
      "source": [
        "# Map the area codes to city names\n",
        "dict = {10:'Belvedere', 20:'Bolinas', 30:'Corte Madera', 40:'Dillon Beach',\n",
        "        50:'Fairfax', 70:'Greenbrae', 80:'Inverness', 90:'Kentfield',\n",
        "        100:'Larkspur', 110:'Marshall', 120:'Mill Valley', 130:'Muir Beach',\n",
        "        140:'Nicasio', 150:'Novato', 170:'Point Reyes', 180:'Ross',\n",
        "        190:'San Anselmo', 200:'San Geronimo Valley', 210:'San Rafael',\n",
        "        220:'Sausalito', 230:'Stinson Beach', 240:'Tiburon', 250:'Tomales'}\n",
        "\n",
        "df = df.replace({'Area': dict}) \n",
        "df.head()"
      ],
      "execution_count": 5,
      "outputs": [
        {
          "output_type": "execute_result",
          "data": {
            "text/html": [
              "<div>\n",
              "<style scoped>\n",
              "    .dataframe tbody tr th:only-of-type {\n",
              "        vertical-align: middle;\n",
              "    }\n",
              "\n",
              "    .dataframe tbody tr th {\n",
              "        vertical-align: top;\n",
              "    }\n",
              "\n",
              "    .dataframe thead th {\n",
              "        text-align: right;\n",
              "    }\n",
              "</style>\n",
              "<table border=\"1\" class=\"dataframe\">\n",
              "  <thead>\n",
              "    <tr style=\"text-align: right;\">\n",
              "      <th></th>\n",
              "      <th>Year</th>\n",
              "      <th>Area</th>\n",
              "      <th>Total Bathrooms</th>\n",
              "      <th>Bedrooms</th>\n",
              "      <th>Curr List Price</th>\n",
              "      <th>Number of Offers</th>\n",
              "      <th>Selling Price</th>\n",
              "    </tr>\n",
              "  </thead>\n",
              "  <tbody>\n",
              "    <tr>\n",
              "      <th>0</th>\n",
              "      <td>2015</td>\n",
              "      <td>Belvedere</td>\n",
              "      <td>2</td>\n",
              "      <td>2</td>\n",
              "      <td>3200000</td>\n",
              "      <td>2</td>\n",
              "      <td>3400000</td>\n",
              "    </tr>\n",
              "    <tr>\n",
              "      <th>1</th>\n",
              "      <td>2015</td>\n",
              "      <td>Belvedere</td>\n",
              "      <td>3</td>\n",
              "      <td>3</td>\n",
              "      <td>3795000</td>\n",
              "      <td>2</td>\n",
              "      <td>3783000</td>\n",
              "    </tr>\n",
              "    <tr>\n",
              "      <th>2</th>\n",
              "      <td>2015</td>\n",
              "      <td>Belvedere</td>\n",
              "      <td>4</td>\n",
              "      <td>3</td>\n",
              "      <td>2675000</td>\n",
              "      <td>2</td>\n",
              "      <td>2675000</td>\n",
              "    </tr>\n",
              "    <tr>\n",
              "      <th>3</th>\n",
              "      <td>2015</td>\n",
              "      <td>Belvedere</td>\n",
              "      <td>3</td>\n",
              "      <td>4</td>\n",
              "      <td>2895000</td>\n",
              "      <td>2</td>\n",
              "      <td>3200000</td>\n",
              "    </tr>\n",
              "    <tr>\n",
              "      <th>4</th>\n",
              "      <td>2015</td>\n",
              "      <td>Belvedere</td>\n",
              "      <td>4</td>\n",
              "      <td>4</td>\n",
              "      <td>2795000</td>\n",
              "      <td>2</td>\n",
              "      <td>3100000</td>\n",
              "    </tr>\n",
              "  </tbody>\n",
              "</table>\n",
              "</div>"
            ],
            "text/plain": [
              "   Year       Area  ...  Number of Offers  Selling Price\n",
              "0  2015  Belvedere  ...                 2        3400000\n",
              "1  2015  Belvedere  ...                 2        3783000\n",
              "2  2015  Belvedere  ...                 2        2675000\n",
              "3  2015  Belvedere  ...                 2        3200000\n",
              "4  2015  Belvedere  ...                 2        3100000\n",
              "\n",
              "[5 rows x 7 columns]"
            ]
          },
          "metadata": {
            "tags": []
          },
          "execution_count": 5
        }
      ]
    },
    {
      "cell_type": "code",
      "metadata": {
        "id": "FjXAdEL-VaFp",
        "colab_type": "code",
        "outputId": "a54ba37a-b16e-4700-eb41-676d9ee499ba",
        "colab": {
          "base_uri": "https://localhost:8080/",
          "height": 51
        }
      },
      "source": [
        "# Split into train and test - 2015-2018 in train, 2019 in test\n",
        "low_cutoff = 2015\n",
        "high_cutoff = 2019\n",
        "train = df[(df['Year'] >= low_cutoff) & (df['Year'] < high_cutoff)]\n",
        "test  = df[df['Year'] >= high_cutoff]\n",
        "print(train.shape)\n",
        "print(test.shape)"
      ],
      "execution_count": 6,
      "outputs": [
        {
          "output_type": "stream",
          "text": [
            "(3964, 7)\n",
            "(776, 7)\n"
          ],
          "name": "stdout"
        }
      ]
    },
    {
      "cell_type": "code",
      "metadata": {
        "id": "M2NPoMIxW7no",
        "colab_type": "code",
        "outputId": "8d8c3397-8a99-4dcb-ef47-23cab34ad6af",
        "colab": {
          "base_uri": "https://localhost:8080/",
          "height": 34
        }
      },
      "source": [
        "# Split train into train and validation - 2015-2017 in train and 2018 in validation\n",
        "cutoff = 2018\n",
        "temp=train.copy()\n",
        "train = temp[temp['Year'] < cutoff]\n",
        "val  = temp[temp['Year'] >= cutoff]\n",
        "print(train.shape, val.shape, test.shape)"
      ],
      "execution_count": 7,
      "outputs": [
        {
          "output_type": "stream",
          "text": [
            "(2973, 7) (991, 7) (776, 7)\n"
          ],
          "name": "stdout"
        }
      ]
    },
    {
      "cell_type": "code",
      "metadata": {
        "id": "mcF03aWQXWMr",
        "colab_type": "code",
        "outputId": "bd7370ee-f524-4e08-bb9e-626d2db36b88",
        "colab": {
          "base_uri": "https://localhost:8080/",
          "height": 224
        }
      },
      "source": [
        "# Encode and fit a XGBoost model\n",
        "target = 'Selling Price'\n",
        "\n",
        "features = train.columns.drop(target)\n",
        "X_train = train[features]\n",
        "y_train = train[target]\n",
        "X_val = val[features]\n",
        "y_val = val[target]\n",
        "X_test = test[features]\n",
        "y_test = test[target]\n",
        "\n",
        "pipeline = make_pipeline(\n",
        "    ce.OneHotEncoder(use_cat_names=True), \n",
        "    XGBRegressor(n_estimators=200, n_jobs=-1)\n",
        ")\n",
        "\n",
        "pipeline.fit(X_train, y_train)\n",
        "dump(pipeline, 'pipeline.joblib')\n",
        "y_pred = pipeline.predict(X_val)\n",
        "\n",
        "# Print metrics for validation \n",
        "val_mse = mean_squared_error(y_val, y_pred)\n",
        "val_rmse = np.sqrt(val_mse)\n",
        "val_mae = mean_absolute_error(y_val, y_pred)\n",
        "val_r2 = r2_score(y_val, y_pred)\n",
        "print('Validation Mean Absolute Error:', val_mae)\n",
        "print('Validation R^2:', val_r2)\n",
        "print('\\n')\n",
        "\n",
        "ty_pred = pipeline.predict(X_test)\n",
        "\n",
        "# Print metrics for test\n",
        "test_mse = mean_squared_error(y_test, ty_pred)\n",
        "test_rmse = np.sqrt(test_mse)\n",
        "test_mae = mean_absolute_error(y_test, ty_pred)\n",
        "test_r2 = r2_score(y_test, ty_pred)\n",
        "print('Test Mean Absolute Error:', test_mae)\n",
        "print('Test R^2:', test_r2)\n"
      ],
      "execution_count": 8,
      "outputs": [
        {
          "output_type": "stream",
          "text": [
            "[17:30:47] WARNING: /workspace/src/objective/regression_obj.cu:152: reg:linear is now deprecated in favor of reg:squarederror.\n"
          ],
          "name": "stdout"
        },
        {
          "output_type": "stream",
          "text": [
            "/usr/local/lib/python3.6/dist-packages/xgboost/core.py:587: FutureWarning: Series.base is deprecated and will be removed in a future version\n",
            "  if getattr(data, 'base', None) is not None and \\\n",
            "/usr/local/lib/python3.6/dist-packages/xgboost/core.py:588: FutureWarning: Series.base is deprecated and will be removed in a future version\n",
            "  data.base is not None and isinstance(data, np.ndarray) \\\n"
          ],
          "name": "stderr"
        },
        {
          "output_type": "stream",
          "text": [
            "Validation Mean Absolute Error: 71851.57451437942\n",
            "Validation R^2: 0.9726460777954237\n",
            "\n",
            "\n",
            "Test Mean Absolute Error: 68002.4604945232\n",
            "Test R^2: 0.983941073468622\n"
          ],
          "name": "stdout"
        }
      ]
    },
    {
      "cell_type": "code",
      "metadata": {
        "id": "vvv1WZYBhT7B",
        "colab_type": "code",
        "colab": {
          "base_uri": "https://localhost:8080/",
          "height": 238
        },
        "outputId": "ddbbbcc8-6d2c-4e7f-8a88-374d6f5d1174"
      },
      "source": [
        "# Add the prediction, difference and address to the final dataframe\n",
        "final = test.copy()\n",
        "final = final.reset_index()\n",
        "final['Prediction'] = ty_pred\n",
        "final['Difference'] = final['Prediction'] - final['Selling Price']\n",
        "final['Prediction'] = final['Prediction'].astype(int)\n",
        "final['Difference'] = final['Difference'].astype(int)\n",
        "print(final.shape)\n",
        "final.head()"
      ],
      "execution_count": 9,
      "outputs": [
        {
          "output_type": "stream",
          "text": [
            "(776, 10)\n"
          ],
          "name": "stdout"
        },
        {
          "output_type": "execute_result",
          "data": {
            "text/html": [
              "<div>\n",
              "<style scoped>\n",
              "    .dataframe tbody tr th:only-of-type {\n",
              "        vertical-align: middle;\n",
              "    }\n",
              "\n",
              "    .dataframe tbody tr th {\n",
              "        vertical-align: top;\n",
              "    }\n",
              "\n",
              "    .dataframe thead th {\n",
              "        text-align: right;\n",
              "    }\n",
              "</style>\n",
              "<table border=\"1\" class=\"dataframe\">\n",
              "  <thead>\n",
              "    <tr style=\"text-align: right;\">\n",
              "      <th></th>\n",
              "      <th>index</th>\n",
              "      <th>Year</th>\n",
              "      <th>Area</th>\n",
              "      <th>Total Bathrooms</th>\n",
              "      <th>Bedrooms</th>\n",
              "      <th>Curr List Price</th>\n",
              "      <th>Number of Offers</th>\n",
              "      <th>Selling Price</th>\n",
              "      <th>Prediction</th>\n",
              "      <th>Difference</th>\n",
              "    </tr>\n",
              "  </thead>\n",
              "  <tbody>\n",
              "    <tr>\n",
              "      <th>0</th>\n",
              "      <td>3964</td>\n",
              "      <td>2019</td>\n",
              "      <td>Belvedere</td>\n",
              "      <td>2</td>\n",
              "      <td>2</td>\n",
              "      <td>2895000</td>\n",
              "      <td>2</td>\n",
              "      <td>2900000</td>\n",
              "      <td>2963013</td>\n",
              "      <td>63013</td>\n",
              "    </tr>\n",
              "    <tr>\n",
              "      <th>1</th>\n",
              "      <td>3965</td>\n",
              "      <td>2019</td>\n",
              "      <td>Belvedere</td>\n",
              "      <td>2</td>\n",
              "      <td>3</td>\n",
              "      <td>2100000</td>\n",
              "      <td>2</td>\n",
              "      <td>1815000</td>\n",
              "      <td>2054723</td>\n",
              "      <td>239723</td>\n",
              "    </tr>\n",
              "    <tr>\n",
              "      <th>2</th>\n",
              "      <td>3966</td>\n",
              "      <td>2019</td>\n",
              "      <td>Belvedere</td>\n",
              "      <td>3</td>\n",
              "      <td>3</td>\n",
              "      <td>3995000</td>\n",
              "      <td>2</td>\n",
              "      <td>3978000</td>\n",
              "      <td>3905144</td>\n",
              "      <td>-72855</td>\n",
              "    </tr>\n",
              "    <tr>\n",
              "      <th>3</th>\n",
              "      <td>3967</td>\n",
              "      <td>2019</td>\n",
              "      <td>Belvedere</td>\n",
              "      <td>3</td>\n",
              "      <td>3</td>\n",
              "      <td>2895000</td>\n",
              "      <td>2</td>\n",
              "      <td>3000000</td>\n",
              "      <td>2951627</td>\n",
              "      <td>-48372</td>\n",
              "    </tr>\n",
              "    <tr>\n",
              "      <th>4</th>\n",
              "      <td>3968</td>\n",
              "      <td>2019</td>\n",
              "      <td>Belvedere</td>\n",
              "      <td>3</td>\n",
              "      <td>4</td>\n",
              "      <td>3800000</td>\n",
              "      <td>2</td>\n",
              "      <td>4235000</td>\n",
              "      <td>3660602</td>\n",
              "      <td>-574397</td>\n",
              "    </tr>\n",
              "  </tbody>\n",
              "</table>\n",
              "</div>"
            ],
            "text/plain": [
              "   index  Year       Area  ...  Selling Price  Prediction  Difference\n",
              "0   3964  2019  Belvedere  ...        2900000     2963013       63013\n",
              "1   3965  2019  Belvedere  ...        1815000     2054723      239723\n",
              "2   3966  2019  Belvedere  ...        3978000     3905144      -72855\n",
              "3   3967  2019  Belvedere  ...        3000000     2951627      -48372\n",
              "4   3968  2019  Belvedere  ...        4235000     3660602     -574397\n",
              "\n",
              "[5 rows x 10 columns]"
            ]
          },
          "metadata": {
            "tags": []
          },
          "execution_count": 9
        }
      ]
    },
    {
      "cell_type": "code",
      "metadata": {
        "id": "AwLGKKWTiGPT",
        "colab_type": "code",
        "colab": {
          "base_uri": "https://localhost:8080/",
          "height": 102
        },
        "outputId": "72581bbd-b473-4f04-c3c2-83f342dce66f"
      },
      "source": [
        "# Calculate the metrics\n",
        "final['Pred Percent'] = final['Difference']/final['Prediction']\n",
        "pred_median_error = final['Pred Percent'].median()\n",
        "pred_one_percent = (final['Pred Percent'][(final['Pred Percent'] >= -.01) &\n",
        "                                          (final['Pred Percent'] <= .01)].count())/final.shape[0]\n",
        "\n",
        "pred_five_percent = (final['Pred Percent'][(final['Pred Percent'] >= -.05) &\n",
        "                                           (final['Pred Percent'] <= .05)].count())/final.shape[0]\n",
        "\n",
        "pred_ten_percent = (final['Pred Percent'][(final['Pred Percent'] >= -.10) &\n",
        "                                          (final['Pred Percent'] <= .10)].count())/final.shape[0]\n",
        "\n",
        "pred_win_percent = (final['Pred Percent'][(final['Pred Percent'] >= 0)].count())/final.shape[0]\n",
        "\n",
        "print('Median Error - %.4f%%' % (pred_median_error * 100))\n",
        "print('Prediction Within 1 percent - %.4f%%' % (pred_one_percent * 100))\n",
        "print('Prediction Within 5 percent - %.4f%%' % (pred_five_percent * 100))\n",
        "print('Prediction Within 10 percent - %.4f%%' % (pred_ten_percent * 100))\n",
        "print('Winning Prediction - %.4f%%' % (pred_win_percent * 100))"
      ],
      "execution_count": 15,
      "outputs": [
        {
          "output_type": "stream",
          "text": [
            "Median Error - 0.4881%\n",
            "Prediction Within 1 percent - 14.6907%\n",
            "Prediction Within 5 percent - 69.7165%\n",
            "Prediction Within 10 percent - 91.4948%\n",
            "Winning Prediction - 53.4794%\n"
          ],
          "name": "stdout"
        }
      ]
    },
    {
      "cell_type": "code",
      "metadata": {
        "id": "bV96DbAjjs5n",
        "colab_type": "code",
        "colab": {
          "base_uri": "https://localhost:8080/",
          "height": 441
        },
        "outputId": "ebc4aa27-2496-45ba-8d89-1f6ec3ba9dd7"
      },
      "source": [
        "# Graph the prediction errors\n",
        "import matplotlib.pyplot as plt\n",
        "%matplotlib inline\n",
        "\n",
        "plt.style.use('fivethirtyeight')\n",
        "\n",
        "fig, ax = plt.subplots(figsize=(8,6))\n",
        "\n",
        "plt.hist((final['Pred Percent'] * 100), bins=50)\n",
        "plt.gca().set(title='Frequency Histogram of Prediction Errors', xlabel='Error Percentage', ylabel='Frequency');"
      ],
      "execution_count": 14,
      "outputs": [
        {
          "output_type": "display_data",
          "data": {
            "image/png": "[encoded data removed]",
            "text/plain": [
              "<Figure size 576x432 with 1 Axes>"
            ]
          },
          "metadata": {
            "tags": []
          }
        }
      ]
    }
  ]
}