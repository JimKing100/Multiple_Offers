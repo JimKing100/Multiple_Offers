{
  "nbformat": 4,
  "nbformat_minor": 0,
  "metadata": {
    "colab": {
      "name": "Untitled43.ipynb",
      "provenance": [],
      "include_colab_link": true
    },
    "kernelspec": {
      "name": "python3",
      "display_name": "Python 3"
    }
  },
  "cells": [
    {
      "cell_type": "markdown",
      "metadata": {
        "id": "view-in-github",
        "colab_type": "text"
      },
      "source": [
        "<a href=\"https://colab.research.google.com/github/JimKing100/Multiple_Offers/blob/master/model/Linear_Regression.ipynb\" target=\"_parent\"><img src=\"https://colab.research.google.com/assets/colab-badge.svg\" alt=\"Open In Colab\"/></a>"
      ]
    },
    {
      "cell_type": "code",
      "metadata": {
        "id": "ryEcCA98YCPp",
        "colab_type": "code",
        "colab": {}
      },
      "source": [
        "# Installs\n",
        "%%capture\n",
        "!pip install category_encoders==2.0.0"
      ],
      "execution_count": 0,
      "outputs": []
    },
    {
      "cell_type": "code",
      "metadata": {
        "id": "siUawOJBT7Ob",
        "colab_type": "code",
        "colab": {}
      },
      "source": [
        "# Import libraries\n",
        "import pandas as pd\n",
        "import numpy as np\n",
        "\n",
        "from sklearn.preprocessing import OrdinalEncoder\n",
        "from sklearn.linear_model import LinearRegression\n",
        "from sklearn.pipeline import make_pipeline\n",
        "import category_encoders as ce\n",
        "from sklearn.metrics import mean_absolute_error, mean_squared_error, r2_score\n",
        "from sklearn.impute import SimpleImputer\n",
        "from xgboost import XGBRegressor\n",
        "\n",
        "\n",
        "import category_encoders as ce\n",
        "from joblib import dump"
      ],
      "execution_count": 0,
      "outputs": []
    },
    {
      "cell_type": "code",
      "metadata": {
        "id": "OoBiowHvUOmi",
        "colab_type": "code",
        "colab": {}
      },
      "source": [
        "# Load the raw data\n",
        "df = pd.read_csv('https://raw.githubusercontent.com/JimKing100/Multiple_Offers/master/data/Marin-MulitOffers-2015-2019-Final.csv')"
      ],
      "execution_count": 0,
      "outputs": []
    },
    {
      "cell_type": "code",
      "metadata": {
        "id": "3g4JUtPpUo3I",
        "colab_type": "code",
        "outputId": "a3792c64-e2dd-425e-d455-723f61895eac",
        "colab": {
          "base_uri": "https://localhost:8080/",
          "height": 221
        }
      },
      "source": [
        "df.head()"
      ],
      "execution_count": 44,
      "outputs": [
        {
          "output_type": "execute_result",
          "data": {
            "text/html": [
              "<div>\n",
              "<style scoped>\n",
              "    .dataframe tbody tr th:only-of-type {\n",
              "        vertical-align: middle;\n",
              "    }\n",
              "\n",
              "    .dataframe tbody tr th {\n",
              "        vertical-align: top;\n",
              "    }\n",
              "\n",
              "    .dataframe thead th {\n",
              "        text-align: right;\n",
              "    }\n",
              "</style>\n",
              "<table border=\"1\" class=\"dataframe\">\n",
              "  <thead>\n",
              "    <tr style=\"text-align: right;\">\n",
              "      <th></th>\n",
              "      <th>Year</th>\n",
              "      <th>Area</th>\n",
              "      <th>Total Bathrooms</th>\n",
              "      <th>Bedrooms</th>\n",
              "      <th>Curr List Price</th>\n",
              "      <th>Number of Offers</th>\n",
              "      <th>Selling Price</th>\n",
              "    </tr>\n",
              "  </thead>\n",
              "  <tbody>\n",
              "    <tr>\n",
              "      <th>0</th>\n",
              "      <td>2015</td>\n",
              "      <td>10</td>\n",
              "      <td>2</td>\n",
              "      <td>2</td>\n",
              "      <td>3200000</td>\n",
              "      <td>2</td>\n",
              "      <td>3400000</td>\n",
              "    </tr>\n",
              "    <tr>\n",
              "      <th>1</th>\n",
              "      <td>2015</td>\n",
              "      <td>10</td>\n",
              "      <td>3</td>\n",
              "      <td>3</td>\n",
              "      <td>3795000</td>\n",
              "      <td>2</td>\n",
              "      <td>3783000</td>\n",
              "    </tr>\n",
              "    <tr>\n",
              "      <th>2</th>\n",
              "      <td>2015</td>\n",
              "      <td>10</td>\n",
              "      <td>4</td>\n",
              "      <td>3</td>\n",
              "      <td>2675000</td>\n",
              "      <td>2</td>\n",
              "      <td>2675000</td>\n",
              "    </tr>\n",
              "    <tr>\n",
              "      <th>3</th>\n",
              "      <td>2015</td>\n",
              "      <td>10</td>\n",
              "      <td>3</td>\n",
              "      <td>4</td>\n",
              "      <td>2895000</td>\n",
              "      <td>2</td>\n",
              "      <td>3200000</td>\n",
              "    </tr>\n",
              "    <tr>\n",
              "      <th>4</th>\n",
              "      <td>2015</td>\n",
              "      <td>10</td>\n",
              "      <td>4</td>\n",
              "      <td>4</td>\n",
              "      <td>2795000</td>\n",
              "      <td>2</td>\n",
              "      <td>3100000</td>\n",
              "    </tr>\n",
              "  </tbody>\n",
              "</table>\n",
              "</div>"
            ],
            "text/plain": [
              "   Year  Area  ...  Number of Offers  Selling Price\n",
              "0  2015    10  ...                 2        3400000\n",
              "1  2015    10  ...                 2        3783000\n",
              "2  2015    10  ...                 2        2675000\n",
              "3  2015    10  ...                 2        3200000\n",
              "4  2015    10  ...                 2        3100000\n",
              "\n",
              "[5 rows x 7 columns]"
            ]
          },
          "metadata": {
            "tags": []
          },
          "execution_count": 44
        }
      ]
    },
    {
      "cell_type": "code",
      "metadata": {
        "id": "Uucweu9v-RZe",
        "colab_type": "code",
        "colab": {
          "base_uri": "https://localhost:8080/",
          "height": 221
        },
        "outputId": "74fc0a36-d5a7-4240-a5f7-377560390838"
      },
      "source": [
        "# Map the area codes to city names\n",
        "dict = {10:'Belvedere', 20:'Bolinas', 30:'Corte Madera', 40:'Dillon Beach',\n",
        "        50:'Fairfax', 70:'Greenbrae', 80:'Inverness', 90:'Kentfield',\n",
        "        100:'Larkspur', 110:'Marshall', 120:'Mill Valley', 130:'Muir Beach',\n",
        "        140:'Nicasio', 150:'Novato', 170:'Point Reyes', 180:'Ross',\n",
        "        190:'San Anselmo', 200:'San Geronimo Valley', 210:'San Rafael',\n",
        "        220:'Sausalito', 230:'Stinson Beach', 240:'Tiburon', 250:'Tomales'}\n",
        "\n",
        "df = df.replace({'Area': dict}) \n",
        "df.head()"
      ],
      "execution_count": 45,
      "outputs": [
        {
          "output_type": "execute_result",
          "data": {
            "text/html": [
              "<div>\n",
              "<style scoped>\n",
              "    .dataframe tbody tr th:only-of-type {\n",
              "        vertical-align: middle;\n",
              "    }\n",
              "\n",
              "    .dataframe tbody tr th {\n",
              "        vertical-align: top;\n",
              "    }\n",
              "\n",
              "    .dataframe thead th {\n",
              "        text-align: right;\n",
              "    }\n",
              "</style>\n",
              "<table border=\"1\" class=\"dataframe\">\n",
              "  <thead>\n",
              "    <tr style=\"text-align: right;\">\n",
              "      <th></th>\n",
              "      <th>Year</th>\n",
              "      <th>Area</th>\n",
              "      <th>Total Bathrooms</th>\n",
              "      <th>Bedrooms</th>\n",
              "      <th>Curr List Price</th>\n",
              "      <th>Number of Offers</th>\n",
              "      <th>Selling Price</th>\n",
              "    </tr>\n",
              "  </thead>\n",
              "  <tbody>\n",
              "    <tr>\n",
              "      <th>0</th>\n",
              "      <td>2015</td>\n",
              "      <td>Belvedere</td>\n",
              "      <td>2</td>\n",
              "      <td>2</td>\n",
              "      <td>3200000</td>\n",
              "      <td>2</td>\n",
              "      <td>3400000</td>\n",
              "    </tr>\n",
              "    <tr>\n",
              "      <th>1</th>\n",
              "      <td>2015</td>\n",
              "      <td>Belvedere</td>\n",
              "      <td>3</td>\n",
              "      <td>3</td>\n",
              "      <td>3795000</td>\n",
              "      <td>2</td>\n",
              "      <td>3783000</td>\n",
              "    </tr>\n",
              "    <tr>\n",
              "      <th>2</th>\n",
              "      <td>2015</td>\n",
              "      <td>Belvedere</td>\n",
              "      <td>4</td>\n",
              "      <td>3</td>\n",
              "      <td>2675000</td>\n",
              "      <td>2</td>\n",
              "      <td>2675000</td>\n",
              "    </tr>\n",
              "    <tr>\n",
              "      <th>3</th>\n",
              "      <td>2015</td>\n",
              "      <td>Belvedere</td>\n",
              "      <td>3</td>\n",
              "      <td>4</td>\n",
              "      <td>2895000</td>\n",
              "      <td>2</td>\n",
              "      <td>3200000</td>\n",
              "    </tr>\n",
              "    <tr>\n",
              "      <th>4</th>\n",
              "      <td>2015</td>\n",
              "      <td>Belvedere</td>\n",
              "      <td>4</td>\n",
              "      <td>4</td>\n",
              "      <td>2795000</td>\n",
              "      <td>2</td>\n",
              "      <td>3100000</td>\n",
              "    </tr>\n",
              "  </tbody>\n",
              "</table>\n",
              "</div>"
            ],
            "text/plain": [
              "   Year       Area  ...  Number of Offers  Selling Price\n",
              "0  2015  Belvedere  ...                 2        3400000\n",
              "1  2015  Belvedere  ...                 2        3783000\n",
              "2  2015  Belvedere  ...                 2        2675000\n",
              "3  2015  Belvedere  ...                 2        3200000\n",
              "4  2015  Belvedere  ...                 2        3100000\n",
              "\n",
              "[5 rows x 7 columns]"
            ]
          },
          "metadata": {
            "tags": []
          },
          "execution_count": 45
        }
      ]
    },
    {
      "cell_type": "code",
      "metadata": {
        "id": "FjXAdEL-VaFp",
        "colab_type": "code",
        "outputId": "a0ce0320-3ed8-433d-ffe1-23305c7f991d",
        "colab": {
          "base_uri": "https://localhost:8080/",
          "height": 51
        }
      },
      "source": [
        "# Split into train and test - 2015-2018 in train, 2019 in test\n",
        "low_cutoff = 2015\n",
        "high_cutoff = 2019\n",
        "train = df[(df['Year'] >= low_cutoff) & (df['Year'] < high_cutoff)]\n",
        "test  = df[df['Year'] >= high_cutoff]\n",
        "print(train.shape)\n",
        "print(test.shape)"
      ],
      "execution_count": 46,
      "outputs": [
        {
          "output_type": "stream",
          "text": [
            "(3964, 7)\n",
            "(776, 7)\n"
          ],
          "name": "stdout"
        }
      ]
    },
    {
      "cell_type": "code",
      "metadata": {
        "id": "M2NPoMIxW7no",
        "colab_type": "code",
        "outputId": "b4bd7b61-e5ff-4764-934a-d9ef0f74930d",
        "colab": {
          "base_uri": "https://localhost:8080/",
          "height": 34
        }
      },
      "source": [
        "# Split train into train and validation - 2015-2017 in train and 2018 in validation\n",
        "cutoff = 2018\n",
        "temp=train.copy()\n",
        "train = temp[temp['Year'] < cutoff]\n",
        "val  = temp[temp['Year'] >= cutoff]\n",
        "print(train.shape, val.shape, test.shape)"
      ],
      "execution_count": 47,
      "outputs": [
        {
          "output_type": "stream",
          "text": [
            "(2973, 7) (991, 7) (776, 7)\n"
          ],
          "name": "stdout"
        }
      ]
    },
    {
      "cell_type": "code",
      "metadata": {
        "id": "mcF03aWQXWMr",
        "colab_type": "code",
        "outputId": "94eaf51d-7ede-4f77-cc7e-1ecbcb066319",
        "colab": {
          "base_uri": "https://localhost:8080/",
          "height": 224
        }
      },
      "source": [
        "# Encode and fit a XGBoost model\n",
        "target = 'Selling Price'\n",
        "\n",
        "features = train.columns.drop(target)\n",
        "X_train = train[features]\n",
        "y_train = train[target]\n",
        "X_val = val[features]\n",
        "y_val = val[target]\n",
        "X_test = test[features]\n",
        "y_test = test[target]\n",
        "\n",
        "pipeline = make_pipeline(\n",
        "    ce.OneHotEncoder(use_cat_names=True), \n",
        "    XGBRegressor(n_estimators=200, n_jobs=-1)\n",
        ")\n",
        "\n",
        "pipeline.fit(X_train, y_train)\n",
        "dump(pipeline, 'pipeline.joblib')\n",
        "y_pred = pipeline.predict(X_val)\n",
        "\n",
        "# Print metrics for validation \n",
        "val_mse = mean_squared_error(y_val, y_pred)\n",
        "val_rmse = np.sqrt(val_mse)\n",
        "val_mae = mean_absolute_error(y_val, y_pred)\n",
        "val_r2 = r2_score(y_val, y_pred)\n",
        "print('Validation Mean Absolute Error:', val_mae)\n",
        "print('Validation R^2:', val_r2)\n",
        "print('\\n')\n",
        "\n",
        "ty_pred = pipeline.predict(X_test)\n",
        "\n",
        "# Print metrics for test\n",
        "test_mse = mean_squared_error(y_test, ty_pred)\n",
        "test_rmse = np.sqrt(test_mse)\n",
        "test_mae = mean_absolute_error(y_test, ty_pred)\n",
        "test_r2 = r2_score(y_test, ty_pred)\n",
        "print('Test Mean Absolute Error:', test_mae)\n",
        "print('Test R^2:', test_r2)\n"
      ],
      "execution_count": 48,
      "outputs": [
        {
          "output_type": "stream",
          "text": [
            "[21:26:23] WARNING: /workspace/src/objective/regression_obj.cu:152: reg:linear is now deprecated in favor of reg:squarederror.\n"
          ],
          "name": "stdout"
        },
        {
          "output_type": "stream",
          "text": [
            "/usr/local/lib/python3.6/dist-packages/xgboost/core.py:587: FutureWarning: Series.base is deprecated and will be removed in a future version\n",
            "  if getattr(data, 'base', None) is not None and \\\n",
            "/usr/local/lib/python3.6/dist-packages/xgboost/core.py:588: FutureWarning: Series.base is deprecated and will be removed in a future version\n",
            "  data.base is not None and isinstance(data, np.ndarray) \\\n"
          ],
          "name": "stderr"
        },
        {
          "output_type": "stream",
          "text": [
            "Validation Mean Absolute Error: 71851.57451437942\n",
            "Validation R^2: 0.9726460777954237\n",
            "\n",
            "\n",
            "Test Mean Absolute Error: 68002.4604945232\n",
            "Test R^2: 0.983941073468622\n"
          ],
          "name": "stdout"
        }
      ]
    }
  ]
}
